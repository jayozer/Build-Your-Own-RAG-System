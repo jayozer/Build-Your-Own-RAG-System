{
  "cells": [
    {
      "cell_type": "markdown",
      "metadata": {
        "id": "hIDdGw6hepiF"
      },
      "source": [
        "# Basic embedding retrieval with Chroma\n",
        "\n",
        "> Add blockquote\n",
        "\n",
        "\n",
        "\n",
        "This notebook demonstrates the most basic use of Chroma to store and retrieve information using embeddings. This core building block is at the heart of many powerful AI applications.\n",
        "\n",
        "## What are embeddings?\n",
        "\n",
        "Embeddings are the A.I-native way to represent any kind of data, making them the perfect fit for working with all kinds of A.I-powered tools and algorithms. They can represent text, images, and soon audio and video.\n",
        "\n",
        "To create an embedding, data is fed into an embedding model, which outputs vectors of numbers. The model is trained in such a way that 'similar' data, e.g. text with similar meanings, or images with similar content, will produce vectors which are nearer to one another, than those which are dissimilar.\n",
        "\n",
        "## Embeddings and retrieval\n",
        "\n",
        "We can use the similarity property of embeddings to search for and retrieve information. For example, we can find documents relevant to a particular topic, or images similar to a given image. Rather than searching for keywords or tags, we can search by finding data with similar semantic meaning.\n"
      ]
    },
    {
      "cell_type": "code",
      "execution_count": 1,
      "metadata": {
        "id": "R1nkKfEUepiH"
      },
      "outputs": [
        {
          "name": "stdout",
          "output_type": "stream",
          "text": [
            "\n",
            "\u001b[1m[\u001b[0m\u001b[34;49mnotice\u001b[0m\u001b[1;39;49m]\u001b[0m\u001b[39;49m A new release of pip is available: \u001b[0m\u001b[31;49m23.2.1\u001b[0m\u001b[39;49m -> \u001b[0m\u001b[32;49m24.0\u001b[0m\n",
            "\u001b[1m[\u001b[0m\u001b[34;49mnotice\u001b[0m\u001b[1;39;49m]\u001b[0m\u001b[39;49m To update, run: \u001b[0m\u001b[32;49mpip install --upgrade pip\u001b[0m\n"
          ]
        }
      ],
      "source": [
        "! pip install -Uq chromadb numpy datasets"
      ]
    },
    {
      "cell_type": "markdown",
      "metadata": {
        "id": "6lfVmRQlepiI"
      },
      "source": [
        "## Example Dataset\n",
        "\n",
        "As a demonstration we use the [SciQ dataset](https://arxiv.org/abs/1707.06209), available from [HuggingFace](https://huggingface.co/datasets/sciq).\n",
        "\n",
        "Dataset description, from HuggingFace:\n",
        "\n",
        "> The SciQ dataset contains 13,679 crowdsourced science exam questions about Physics, Chemistry and Biology, among others. The questions are in multiple-choice format with 4 answer options each. For the majority of the questions, an additional paragraph with supporting evidence for the correct answer is provided.\n",
        "\n",
        "In this notebook, we will demonstrate how to retrieve supporting evidence for a given question.\n"
      ]
    },
    {
      "cell_type": "code",
      "execution_count": null,
      "metadata": {
        "colab": {
          "base_uri": "https://localhost:8080/"
        },
        "id": "N-wEyOQzepiI",
        "outputId": "f5476e9f-1732-4d57-9916-3c1d8f85b71b"
      },
      "outputs": [],
      "source": [
        "def load_data_from_file(file_path: str) -> dict:\n",
        "    with open(file_path, 'r') as file:\n",
        "        text = file.read()\n",
        "        data = {\"text\": text}\n",
        "    return data\n",
        "\n",
        "file_path = \"/Users/acrobat/Documents/GitHub/Build-Your-Own-RAG-System/data_poppy/faqv3.txt\"\n",
        "data = load_data_from_file(file_path)\n",
        "\n",
        "print(\"File contents:\\n\", data['text'])"
      ]
    },
    {
      "cell_type": "code",
      "execution_count": null,
      "metadata": {},
      "outputs": [],
      "source": [
        "print(\"File contents:\\n\", data['text'])"
      ]
    },
    {
      "cell_type": "code",
      "execution_count": 14,
      "metadata": {},
      "outputs": [
        {
          "name": "stdout",
          "output_type": "stream",
          "text": [
            "First 100 characters of file:\n",
            " Q: When is a good time for a child's first dental visit and what should parents expect?\n",
            "A: The American Academy of Pediatric Dentistry (AAPD) recommends that every child should have an initial oral evaluation by a pediatric dentist by Age 1 or within 6 months after their first tooth appears. At Poppy Kids Pediatric Dentistry, your child's first visit includes a facility tour, possible cleaning, dental radiographs, fluoride treatment, and an examination by Dr. Andrea. She'll discuss dental care, answer questions, and cover topics like brushing, flossing, and diet. We recommend follow-up visits every 3-6 months, based on individual dental needs. For children under three, we offer a complimentary first appointment with no obligation.\n",
            "\n",
            "Q: What age should children start getting dental x-rays and why are they important?\n",
            "A: Children typically start getting dental X-rays around the age of 6, whi\n"
          ]
        }
      ],
      "source": [
        "#print first 100 chars of in faq poppy file\n",
        "print(\"First 100 characters of file:\\n\", data['text'][:900])"
      ]
    },
    {
      "cell_type": "code",
      "execution_count": 16,
      "metadata": {},
      "outputs": [
        {
          "name": "stdout",
          "output_type": "stream",
          "text": [
            "{'Q': \"When is a good time for a child's first dental visit and what should parents expect?\", 'A': \"The American Academy of Pediatric Dentistry (AAPD) recommends that every child should have an initial oral evaluation by a pediatric dentist by Age 1 or within 6 months after their first tooth appears. At Poppy Kids Pediatric Dentistry, your child's first visit includes a facility tour, possible cleaning, dental radiographs, fluoride treatment, and an examination by Dr. Andrea. She'll discuss dental care, answer questions, and cover topics like brushing, flossing, and diet. We recommend follow-up visits every 3-6 months, based on individual dental needs. For children under three, we offer a complimentary first appointment with no obligation.\"}\n"
          ]
        }
      ],
      "source": [
        "#looks like I need a list of dictionaries:\n",
        "def parse_qa_text(text: str) -> list:\n",
        "    # Split the text into lines\n",
        "    lines = text.split(\"\\n\")\n",
        "    \n",
        "    # Initialize an empty list to store the questions and answers\n",
        "    data = []\n",
        "    \n",
        "    # Initialize empty strings to store the current question and answer\n",
        "    current_question = \"\"\n",
        "    current_answer = \"\"\n",
        "    \n",
        "    # Iterate over the lines\n",
        "    for line in lines:\n",
        "        # If the line starts with \"Q: \", it's a question\n",
        "        if line.startswith(\"Q: \"):\n",
        "            # If there's a current question and answer, add them to the data\n",
        "            if current_question and current_answer:\n",
        "                data.append({\"Q\": current_question, \"A\": current_answer})\n",
        "            \n",
        "            # Start a new question, removing the \"Q: \" prefix\n",
        "            current_question = line[3:]\n",
        "            \n",
        "            # Clear the current answer\n",
        "            current_answer = \"\"\n",
        "        # If the line starts with \"A: \", it's an answer\n",
        "        elif line.startswith(\"A: \"):\n",
        "            # Start a new answer, removing the \"A: \" prefix\n",
        "            current_answer = line[3:]\n",
        "        # If the line is not empty, it's a continuation of the current answer\n",
        "        elif line:\n",
        "            current_answer += \" \" + line\n",
        "    \n",
        "    # If there's a current question and answer at the end, add them to the data\n",
        "    if current_question and current_answer:\n",
        "        data.append({\"Q\": current_question, \"A\": current_answer})\n",
        "    \n",
        "    return data\n",
        "\n",
        "# Use the function to parse the text data\n",
        "data = parse_qa_text(data['text'])\n",
        "\n",
        "# Print the first question-answer pair to check the result\n",
        "print(data[0])"
      ]
    },
    {
      "cell_type": "code",
      "execution_count": 17,
      "metadata": {},
      "outputs": [
        {
          "name": "stdout",
          "output_type": "stream",
          "text": [
            "[{'Q': \"When is a good time for a child's first dental visit and what should parents expect?\", 'A': \"The American Academy of Pediatric Dentistry (AAPD) recommends that every child should have an initial oral evaluation by a pediatric dentist by Age 1 or within 6 months after their first tooth appears. At Poppy Kids Pediatric Dentistry, your child's first visit includes a facility tour, possible cleaning, dental radiographs, fluoride treatment, and an examination by Dr. Andrea. She'll discuss dental care, answer questions, and cover topics like brushing, flossing, and diet. We recommend follow-up visits every 3-6 months, based on individual dental needs. For children under three, we offer a complimentary first appointment with no obligation.\"}, {'Q': 'What age should children start getting dental x-rays and why are they important?', 'A': \"Children typically start getting dental X-rays around the age of 6, which coincides with the eruption of their permanent teeth. X-rays are important for several reasons: they help in detecting cavities between teeth, monitoring tooth growth and development, assessing the impact of any injuries, and planning orthodontic treatment. Pediatric dentists use X-rays to ensure a child's teeth and jaw are developing properly and to identify potential issues early, when they are easier to treat. The frequency of dental X-rays depends on the child's individual needs and dental health.\"}]\n"
          ]
        }
      ],
      "source": [
        "# Print the first question-answer pair to check the result\n",
        "print(data[0:2])"
      ]
    },
    {
      "cell_type": "markdown",
      "metadata": {
        "id": "s8wXeIZKepiI"
      },
      "source": [
        "## Loading the data into Chroma\n",
        "\n",
        "Chroma comes with a built-in embedding model, which makes it simple to load text.\n",
        "We can load the SciQ dataset into Chroma with just a few lines of code.\n"
      ]
    },
    {
      "cell_type": "code",
      "execution_count": 18,
      "metadata": {
        "id": "YrcrqRzWepiI"
      },
      "outputs": [],
      "source": [
        "# Import Chroma and instantiate a client. The default Chroma client is ephemeral, meaning it will not save to disk.\n",
        "import chromadb\n",
        "\n",
        "client = chromadb.Client()"
      ]
    },
    {
      "cell_type": "code",
      "execution_count": 21,
      "metadata": {},
      "outputs": [],
      "source": [
        "# Create a new Chroma collection to store the supporting evidence. We don't need to specify an embedding fuction, and the default will be used.\n",
        "collection = client.create_collection(\"poppy_faq\")"
      ]
    },
    {
      "cell_type": "code",
      "execution_count": 22,
      "metadata": {
        "colab": {
          "base_uri": "https://localhost:8080/"
        },
        "id": "LNE9l1DTepiJ",
        "outputId": "f4d6485e-f125-4b38-ac87-9787b22962fe"
      },
      "outputs": [],
      "source": [
        "# Embed and store the question-answer pairs\n",
        "collection.add(\n",
        "    ids=[str(i) for i in range(len(data))],  # IDs are just strings\n",
        "    documents=[f\"{item['Q']} ||| {item['A']}\" for item in data],\n",
        "    metadatas=[{\"type\": \"qa\"} for _ in data],\n",
        ")"
      ]
    },
    {
      "cell_type": "markdown",
      "metadata": {
        "id": "1XOm1G9bepiJ"
      },
      "source": [
        "## Querying the data\n",
        "\n",
        "Once the data is loaded, we can use Chroma to find supporting evidence for the questions in the dataset.\n",
        "In this example, we retrieve the most relevant result according to the embedding similarity score.\n",
        "\n",
        "Chroma handles computing similarity and finding the most relevant results for you, so you can focus on building your application.\n"
      ]
    },
    {
      "cell_type": "code",
      "execution_count": 30,
      "metadata": {
        "id": "ozGyfQHXepiJ"
      },
      "outputs": [
        {
          "name": "stdout",
          "output_type": "stream",
          "text": [
            "[\"Until what age does your pediatric dental practice provide care for patients? ||| Our pediatric dental practice typically provides care for patients up to the age of 18. This includes the transition period from childhood into adolescence, ensuring continuous dental health supervision and treatment throughout their formative years. As young patients grow, their dental needs evolve, and our practice is equipped to address these changing needs, from preventive care and treatment of childhood cavities to guidance on orthodontics and wisdom teeth. Our goal is to maintain their oral health and instill good dental habits that will carry into adulthood. However, for specific cases or individual needs, the age range may vary, and we're always open to discussing continued care beyond this age on a case-by-case basis.\", \"Why should your child see a Board-Certified Pediatric Dentist? ||| Because they are held to the highest standards in pediatric dental care. These dentists have completed specialized training and a voluntary certification process, emphasizing their proficiency in dental treatments tailored specifically for children. Their Board Certification indicates a commitment to continuous learning and adherence to the latest advancements in pediatric dentistry. Your child's dental health is paramount, which is why choosing a Board-Certified Pediatric Dentist like Dr. Andrea Aduna is essential. Dr. Aduna's board certification underscores her specialized training, expertise in pediatric dental care, and dedication to the highest standards of practice. This level of recognition is a testament to her commitment to providing the best possible dental care for children, ensuring a solid foundation for lifelong oral health.\", \"When is a good time for a child's first dental visit and what should parents expect? ||| The American Academy of Pediatric Dentistry (AAPD) recommends that every child should have an initial oral evaluation by a pediatric dentist by Age 1 or within 6 months after their first tooth appears. At Poppy Kids Pediatric Dentistry, your child's first visit includes a facility tour, possible cleaning, dental radiographs, fluoride treatment, and an examination by Dr. Andrea. She'll discuss dental care, answer questions, and cover topics like brushing, flossing, and diet. We recommend follow-up visits every 3-6 months, based on individual dental needs. For children under three, we offer a complimentary first appointment with no obligation.\"]\n"
          ]
        }
      ],
      "source": [
        "results = collection.query(\n",
        "    query_texts=[\"why should I choose a pediatric dentist?\"],\n",
        "    n_results=3\n",
        ")\n",
        "\n",
        "for result in results['documents']:\n",
        "    print(result)"
      ]
    },
    {
      "cell_type": "code",
      "execution_count": 29,
      "metadata": {},
      "outputs": [
        {
          "name": "stdout",
          "output_type": "stream",
          "text": [
            "Q: Can I stay with my child during the treatment?\n",
            "A: We aim for each patient to have the happiest dental experience possible. To achieve this, we believe that trust and support are the foundations of building a lasting relationship with you and your child. We, therefore, have an open-door policy and invite you to accompany your child during their appointment if you choose to join us. Each child is unique, and Dr. Andrea would like to take a team approach to dental care. As their parent, we understand that you know your child best, and our goal is to set them up for success.  If you feel your presence will make your child more comfortable during treatment, come on back!\n",
            "\n"
          ]
        }
      ],
      "source": [
        "# Print the question and the corresponding support\n",
        "for result in results['documents']:\n",
        "    qa_pair = result[0].split(\"|||\")\n",
        "    question = qa_pair[0].strip()\n",
        "    answer = qa_pair[1].strip()\n",
        "    print(f\"Q: {question}\")\n",
        "    print(f\"A: {answer}\")\n",
        "    print()"
      ]
    },
    {
      "cell_type": "markdown",
      "metadata": {
        "id": "AKNEJjHaepiJ"
      },
      "source": [
        "## What's next?\n",
        "\n",
        "Check out the Chroma documentation to [get started](https://docs.trychroma.com/getting-started) with building your own applications.\n",
        "\n",
        "The core embeddings based retrieval functionality demonstrated here is at the heart of many powerful AI applications, like using large language models with Chroma to [chat with your documents](https://github.com/chroma-core/chroma/tree/main/examples/chat_with_your_documents), as well as memory for agents like [BabyAgi](https://github.com/yoheinakajima/babyagi) and [Voyager](https://github.com/MineDojo/Voyager).\n",
        "\n",
        "Chroma is already integrated with many popular AI applications frameworks, including [LangChain](https://python.langchain.com/docs/integrations/vectorstores/chroma) and [LlamaIndex](https://gpt-index.readthedocs.io/en/latest/examples/vector_stores/ChromaIndexDemo.html).\n",
        "\n",
        "Join our community to learn more and get help with your projects: [Discord](https://discord.gg/MMeYNTmh3x) | [Twitter](https://twitter.com/trychroma)\n",
        "\n",
        "We are [hiring](https://trychroma.notion.site/careers-chroma-9d017c3007c7478ebd85bad854101497?pvs=4)!"
      ]
    }
  ],
  "metadata": {
    "colab": {
      "provenance": []
    },
    "kernelspec": {
      "display_name": "Python 3",
      "language": "python",
      "name": "python3"
    },
    "language_info": {
      "codemirror_mode": {
        "name": "ipython",
        "version": 3
      },
      "file_extension": ".py",
      "mimetype": "text/x-python",
      "name": "python",
      "nbconvert_exporter": "python",
      "pygments_lexer": "ipython3",
      "version": "3.11.6"
    },
    "orig_nbformat": 4
  },
  "nbformat": 4,
  "nbformat_minor": 0
}
